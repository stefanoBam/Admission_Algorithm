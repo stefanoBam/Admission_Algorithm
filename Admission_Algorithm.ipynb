{
  "nbformat": 4,
  "nbformat_minor": 0,
  "metadata": {
    "colab": {
      "provenance": [],
      "authorship_tag": "ABX9TyMUABVdhAR6TLeGl/B8Y6QC",
      "include_colab_link": true
    },
    "kernelspec": {
      "name": "python3",
      "display_name": "Python 3"
    },
    "language_info": {
      "name": "python"
    }
  },
  "cells": [
    {
      "cell_type": "markdown",
      "metadata": {
        "id": "view-in-github",
        "colab_type": "text"
      },
      "source": [
        "<a href=\"https://colab.research.google.com/github/stefanoBam/Admission_Algorithm/blob/main/Admission_Algorithm.ipynb\" target=\"_parent\"><img src=\"https://colab.research.google.com/assets/colab-badge.svg\" alt=\"Open In Colab\"/></a>"
      ]
    },
    {
      "cell_type": "code",
      "source": [
        "!git clone https://github.com/stefanoBam/Admission_Algorithm.git"
      ],
      "metadata": {
        "id": "lO8AALKWeJqr",
        "outputId": "e627c84b-a214-4950-9b9e-5d5396a63efc",
        "colab": {
          "base_uri": "https://localhost:8080/"
        }
      },
      "execution_count": 2,
      "outputs": [
        {
          "output_type": "stream",
          "name": "stdout",
          "text": [
            "Cloning into 'Admission_Algorithm'...\n",
            "remote: Enumerating objects: 17, done.\u001b[K\n",
            "remote: Counting objects: 100% (17/17), done.\u001b[K\n",
            "remote: Compressing objects: 100% (16/16), done.\u001b[K\n",
            "Receiving objects: 100% (17/17), 10.95 KiB | 5.47 MiB/s, done.\n",
            "Resolving deltas: 100% (2/2), done.\n",
            "remote: Total 17 (delta 2), reused 8 (delta 0), pack-reused 0\u001b[K\n"
          ]
        }
      ]
    },
    {
      "cell_type": "code",
      "execution_count": 3,
      "metadata": {
        "id": "jFrk4e1UbNHq",
        "colab": {
          "base_uri": "https://localhost:8080/",
          "height": 313
        },
        "outputId": "585de548-2fc3-4418-c37d-6eee09e443a7"
      },
      "outputs": [
        {
          "name": "stdout",
          "output_type": "stream",
          "text": [
            "Index(['Diagnosis/Presenting problem', 'Specific Factors 1',\n",
            "       'Specific Factors 2', 'Admitting Service', 'Notes'],\n",
            "      dtype='object')\n",
            "What is the presenting problem?\n",
            "Biliary\n",
            "Biliary Disease\n",
            "Biliary Disease\n",
            "Biliary Disease\n",
            "Biliary Disease\n",
            "Biliary Disease\n",
            "Biliary Disease\n",
            "[4, 5, 6, 7, 8, 9]\n",
            "Pick one of the following options:\n",
            "{'Benign biliary, non-cancer related:', 'Malignant biliary:'}\n",
            "Benign\n"
          ]
        },
        {
          "output_type": "execute_result",
          "data": {
            "text/plain": [
              "'\\nfor i,r in df[[col2]].iterrows():\\n   # print(r[0])\\n   #if input in r[0]:\\n    #   print(r[0])\\n    if not str(r[0]).find(input1):\\n\\n        if not str(r[1]).find(input2):\\n            if not str(r[2]).find(input3):\\n                print(r[3])\\n'"
            ],
            "application/vnd.google.colaboratory.intrinsic+json": {
              "type": "string"
            }
          },
          "metadata": {},
          "execution_count": 3
        }
      ],
      "source": [
        "import csv\n",
        "import pandas as pd\n",
        "import numpy as np\n",
        "\n",
        "df_0 = pd.read_csv('Admission_Algorithm/Admit_table_csv.csv')\n",
        "df = pd.DataFrame(df_0)\n",
        "#print(df.to_string())\n",
        "\n",
        "col1 = \"Diagnosis/Presenting problem\"\n",
        "col2 = \"Specific Factors 1\"\n",
        "\n",
        "input2= \"Malignant\"\n",
        "input3= \"New diagnosis\"\n",
        "print(df.columns)\n",
        "#print(list(df['Admitting Service']))\n",
        "\n",
        "print(\"What is the presenting problem?\")\n",
        "input1 = str(input())\n",
        "indeces = []\n",
        "\n",
        "for i,r in df[[col1]].iterrows():\n",
        "   # print(r[0])\n",
        "   #if input in r[0]:\n",
        "    #   print(r[0])\n",
        "    if not str(r[0]).find(input1):\n",
        "        print(r[0])\n",
        "        indeces.append(i)\n",
        "\n",
        "print(indeces)\n",
        "secondrow = set([])\n",
        "for i in indeces:\n",
        "    secondrow.add(df[col2][i])\n",
        "print(\"Pick one of the following options:\")\n",
        "print(secondrow)\n",
        "input2=str(input())\n",
        "#for in [i]\n",
        "\n",
        "for i,r in df[[col2]].iterrows():\n",
        "   # print(r[0])\n",
        "   #if input in r[0]:\n",
        "    #   print(r[0])\n",
        "    if i in indeces:\n",
        "        if not str(r).find(input2):\n",
        "            print(r)\n",
        "\n",
        "'''\n",
        "for i,r in df[[col2]].iterrows():\n",
        "   # print(r[0])\n",
        "   #if input in r[0]:\n",
        "    #   print(r[0])\n",
        "    if not str(r[0]).find(input1):\n",
        "\n",
        "        if not str(r[1]).find(input2):\n",
        "            if not str(r[2]).find(input3):\n",
        "                print(r[3])\n",
        "'''"
      ]
    },
    {
      "cell_type": "code",
      "source": [
        "#open file\n",
        "#get input from user\n",
        "#take input from user -> parse\n",
        "#call algorithm to take two inputs: user input text and csv (can then fork to call chatGPT instead of csv in future)\n",
        "\n",
        "#Next steps:\n",
        "#Find open-source Python LLM available and easy to use to search the csv\n",
        "#LLama2 etc. read which is best for our use-case\n",
        "  #can use google scholar to find\n",
        "\n",
        "#ask user's perspective on asnwer, do you agree with reccomendation, and add comments\n",
        "  #store back in excel fiel with query, answer, comments -> for further"
      ],
      "metadata": {
        "id": "IjdfH4wvj-Fg"
      },
      "execution_count": null,
      "outputs": []
    }
  ]
}