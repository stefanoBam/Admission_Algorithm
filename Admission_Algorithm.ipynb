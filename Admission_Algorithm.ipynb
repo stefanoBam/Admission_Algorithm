{
  "nbformat": 4,
  "nbformat_minor": 0,
  "metadata": {
    "colab": {
      "provenance": [],
      "authorship_tag": "ABX9TyNaxVBeIX6Cvy8Q44leL8+D",
      "include_colab_link": true
    },
    "kernelspec": {
      "name": "python3",
      "display_name": "Python 3"
    },
    "language_info": {
      "name": "python"
    }
  },
  "cells": [
    {
      "cell_type": "markdown",
      "metadata": {
        "id": "view-in-github",
        "colab_type": "text"
      },
      "source": [
        "<a href=\"https://colab.research.google.com/github/stefanoBam/Admission_Algorithm/blob/main/Admission_Algorithm.ipynb\" target=\"_parent\"><img src=\"https://colab.research.google.com/assets/colab-badge.svg\" alt=\"Open In Colab\"/></a>"
      ]
    },
    {
      "cell_type": "code",
      "execution_count": null,
      "metadata": {
        "id": "jFrk4e1UbNHq"
      },
      "outputs": [],
      "source": [
        "import csv\n",
        "import pandas as pd\n",
        "import numpy as np\n",
        "\n",
        "df_0 = pd.read_csv('Admit_table_csv.csv')\n",
        "df = pd.DataFrame(df_0)\n",
        "#print(df.to_string())\n",
        "\n",
        "col1 = \"Diagnosis/Presenting problem\"\n",
        "col2 = \"Specific Factors 1\"\n",
        "\n",
        "input2= \"Malignant\"\n",
        "input3= \"New diagnosis\"\n",
        "print(df.columns)\n",
        "#print(list(df['Admitting Service']))\n",
        "\n",
        "print(\"What is the presenting problem?\")\n",
        "input1 = str(input())\n",
        "indeces = []\n",
        "\n",
        "for i,r in df[[col1]].iterrows():\n",
        "   # print(r[0])\n",
        "   #if input in r[0]:\n",
        "    #   print(r[0])\n",
        "    if not str(r[0]).find(input1):\n",
        "        print(r[0])\n",
        "        indeces.append(i)\n",
        "\n",
        "print(indeces)\n",
        "secondrow = set([])\n",
        "for i in indeces:\n",
        "    secondrow.add(df[col2][i])\n",
        "print(\"Pick one of the following options:\")\n",
        "print(secondrow)\n",
        "input2=str(input())\n",
        "#for in [i]\n",
        "\n",
        "for i,r in df[[col2]].iterrows():\n",
        "   # print(r[0])\n",
        "   #if input in r[0]:\n",
        "    #   print(r[0])\n",
        "    if i in indeces:\n",
        "        if not str(r).find(input2):\n",
        "            print(r)\n",
        "\n",
        "'''\n",
        "for i,r in df[[col2]].iterrows():\n",
        "   # print(r[0])\n",
        "   #if input in r[0]:\n",
        "    #   print(r[0])\n",
        "    if not str(r[0]).find(input1):\n",
        "\n",
        "        if not str(r[1]).find(input2):\n",
        "            if not str(r[2]).find(input3):\n",
        "                print(r[3])\n",
        "'''"
      ]
    }
  ]
}