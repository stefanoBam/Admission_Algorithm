{
  "nbformat": 4,
  "nbformat_minor": 0,
  "metadata": {
    "colab": {
      "provenance": [],
      "authorship_tag": "ABX9TyNRazPxkN3tWYAVvzJUm2N6",
      "include_colab_link": true
    },
    "kernelspec": {
      "name": "python3",
      "display_name": "Python 3"
    },
    "language_info": {
      "name": "python"
    }
  },
  "cells": [
    {
      "cell_type": "markdown",
      "metadata": {
        "id": "view-in-github",
        "colab_type": "text"
      },
      "source": [
        "<a href=\"https://colab.research.google.com/github/stefanoBam/Admission_Algorithm/blob/main/Admission_Algorithm.ipynb\" target=\"_parent\"><img src=\"https://colab.research.google.com/assets/colab-badge.svg\" alt=\"Open In Colab\"/></a>"
      ]
    },
    {
      "cell_type": "code",
      "source": [
        "!git clone https://github.com/stefanoBam/Admission_Algorithm.git"
      ],
      "metadata": {
        "id": "lO8AALKWeJqr",
        "outputId": "fe1bfcef-4c45-4c78-9c5c-41377e7afbd5",
        "colab": {
          "base_uri": "https://localhost:8080/"
        }
      },
      "execution_count": 6,
      "outputs": [
        {
          "output_type": "stream",
          "name": "stdout",
          "text": [
            "Cloning into 'Admission_Algorithm'...\n",
            "remote: Enumerating objects: 14, done.\u001b[K\n",
            "remote: Counting objects:   7% (1/14)\u001b[K\rremote: Counting objects:  14% (2/14)\u001b[K\rremote: Counting objects:  21% (3/14)\u001b[K\rremote: Counting objects:  28% (4/14)\u001b[K\rremote: Counting objects:  35% (5/14)\u001b[K\rremote: Counting objects:  42% (6/14)\u001b[K\rremote: Counting objects:  50% (7/14)\u001b[K\rremote: Counting objects:  57% (8/14)\u001b[K\rremote: Counting objects:  64% (9/14)\u001b[K\rremote: Counting objects:  71% (10/14)\u001b[K\rremote: Counting objects:  78% (11/14)\u001b[K\rremote: Counting objects:  85% (12/14)\u001b[K\rremote: Counting objects:  92% (13/14)\u001b[K\rremote: Counting objects: 100% (14/14)\u001b[K\rremote: Counting objects: 100% (14/14), done.\u001b[K\n",
            "remote: Compressing objects:   7% (1/13)\u001b[K\rremote: Compressing objects:  15% (2/13)\u001b[K\rremote: Compressing objects:  23% (3/13)\u001b[K\rremote: Compressing objects:  30% (4/13)\u001b[K\rremote: Compressing objects:  38% (5/13)\u001b[K\rremote: Compressing objects:  46% (6/13)\u001b[K\rremote: Compressing objects:  53% (7/13)\u001b[K\rremote: Compressing objects:  61% (8/13)\u001b[K\rremote: Compressing objects:  69% (9/13)\u001b[K\rremote: Compressing objects:  76% (10/13)\u001b[K\rremote: Compressing objects:  84% (11/13)\u001b[K\rremote: Compressing objects:  92% (12/13)\u001b[K\rremote: Compressing objects: 100% (13/13)\u001b[K\rremote: Compressing objects: 100% (13/13), done.\u001b[K\n",
            "remote: Total 14 (delta 1), reused 8 (delta 0), pack-reused 0\u001b[K\n",
            "Receiving objects:   7% (1/14)\rReceiving objects:  14% (2/14)\rReceiving objects:  21% (3/14)\rReceiving objects:  28% (4/14)\rReceiving objects:  35% (5/14)\rReceiving objects:  42% (6/14)\rReceiving objects:  50% (7/14)\rReceiving objects:  57% (8/14)\rReceiving objects:  64% (9/14)\rReceiving objects:  71% (10/14)\rReceiving objects:  78% (11/14)\rReceiving objects:  85% (12/14)\rReceiving objects:  92% (13/14)\rReceiving objects: 100% (14/14)\rReceiving objects: 100% (14/14), 9.68 KiB | 9.68 MiB/s, done.\n",
            "Resolving deltas:   0% (0/1)\rResolving deltas: 100% (1/1)\rResolving deltas: 100% (1/1), done.\n"
          ]
        }
      ]
    },
    {
      "cell_type": "code",
      "execution_count": 10,
      "metadata": {
        "id": "jFrk4e1UbNHq",
        "colab": {
          "base_uri": "https://localhost:8080/",
          "height": 313
        },
        "outputId": "ca735345-5141-4508-d1f7-0c75c4481ca5"
      },
      "outputs": [
        {
          "name": "stdout",
          "output_type": "stream",
          "text": [
            "Index(['Diagnosis/Presenting problem', 'Specific Factors 1',\n",
            "       'Specific Factors 2', 'Admitting Service', 'Notes'],\n",
            "      dtype='object')\n",
            "What is the presenting problem?\n",
            "Biliary\n",
            "Biliary Disease\n",
            "Biliary Disease\n",
            "Biliary Disease\n",
            "Biliary Disease\n",
            "Biliary Disease\n",
            "Biliary Disease\n",
            "[4, 5, 6, 7, 8, 9]\n",
            "Pick one of the following options:\n",
            "{'Benign biliary, non-cancer related:', 'Malignant biliary:'}\n",
            "Benign\n"
          ]
        },
        {
          "output_type": "execute_result",
          "data": {
            "text/plain": [
              "'\\nfor i,r in df[[col2]].iterrows():\\n   # print(r[0])\\n   #if input in r[0]:\\n    #   print(r[0])\\n    if not str(r[0]).find(input1):\\n\\n        if not str(r[1]).find(input2):\\n            if not str(r[2]).find(input3):\\n                print(r[3])\\n'"
            ],
            "application/vnd.google.colaboratory.intrinsic+json": {
              "type": "string"
            }
          },
          "metadata": {},
          "execution_count": 10
        }
      ],
      "source": [
        "import csv\n",
        "import pandas as pd\n",
        "import numpy as np\n",
        "\n",
        "df_0 = pd.read_csv('Admission_Algorithm/Admit_table_csv.csv')\n",
        "df = pd.DataFrame(df_0)\n",
        "#print(df.to_string())\n",
        "\n",
        "col1 = \"Diagnosis/Presenting problem\"\n",
        "col2 = \"Specific Factors 1\"\n",
        "\n",
        "input2= \"Malignant\"\n",
        "input3= \"New diagnosis\"\n",
        "print(df.columns)\n",
        "#print(list(df['Admitting Service']))\n",
        "\n",
        "print(\"What is the presenting problem?\")\n",
        "input1 = str(input())\n",
        "indeces = []\n",
        "\n",
        "for i,r in df[[col1]].iterrows():\n",
        "   # print(r[0])\n",
        "   #if input in r[0]:\n",
        "    #   print(r[0])\n",
        "    if not str(r[0]).find(input1):\n",
        "        print(r[0])\n",
        "        indeces.append(i)\n",
        "\n",
        "print(indeces)\n",
        "secondrow = set([])\n",
        "for i in indeces:\n",
        "    secondrow.add(df[col2][i])\n",
        "print(\"Pick one of the following options:\")\n",
        "print(secondrow)\n",
        "input2=str(input())\n",
        "#for in [i]\n",
        "\n",
        "for i,r in df[[col2]].iterrows():\n",
        "   # print(r[0])\n",
        "   #if input in r[0]:\n",
        "    #   print(r[0])\n",
        "    if i in indeces:\n",
        "        if not str(r).find(input2):\n",
        "            print(r)\n",
        "\n",
        "'''\n",
        "for i,r in df[[col2]].iterrows():\n",
        "   # print(r[0])\n",
        "   #if input in r[0]:\n",
        "    #   print(r[0])\n",
        "    if not str(r[0]).find(input1):\n",
        "\n",
        "        if not str(r[1]).find(input2):\n",
        "            if not str(r[2]).find(input3):\n",
        "                print(r[3])\n",
        "'''"
      ]
    }
  ]
}